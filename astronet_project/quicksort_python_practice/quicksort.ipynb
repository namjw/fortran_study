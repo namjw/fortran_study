{
 "cells": [
  {
   "cell_type": "code",
   "execution_count": 1,
   "id": "0c0e6b4d",
   "metadata": {},
   "outputs": [],
   "source": [
    "import numpy as np"
   ]
  },
  {
   "cell_type": "code",
   "execution_count": 65,
   "id": "01306aa2",
   "metadata": {},
   "outputs": [],
   "source": [
    "def swap(a, b):\n",
    "    return b, a"
   ]
  },
  {
   "cell_type": "code",
   "execution_count": 57,
   "id": "73e6ce48",
   "metadata": {},
   "outputs": [],
   "source": [
    "def quicksort_(arr, i, j):\n",
    "    \n",
    "    ii = i\n",
    "    jj = j\n",
    "    p = j\n",
    "    \n",
    "    if i >= j:\n",
    "        pass\n",
    "    \n",
    "    else:\n",
    "        \n",
    "        while ii<jj:\n",
    "            bi = (arr[ii] >= arr[p])\n",
    "            bj = (arr[jj] < arr[p])\n",
    "            \n",
    "            if (bi and bj):\n",
    "                swap(arr[ii], arr[jj])\n",
    "                ii += 1\n",
    "                jj -= 1\n",
    "                \n",
    "            elif (bi != bj) or bj:\n",
    "                ii += 1\n",
    "            \n",
    "            elif (bi != bj) or bi:\n",
    "                jj -= 1\n",
    "        \n",
    "        swap(arr[ii], arr[p])\n",
    "        quicksort_(arr, i, ii-1)\n",
    "        quicksort_(arr, ii+1, j)\n",
    "        \n",
    "            "
   ]
  },
  {
   "cell_type": "code",
   "execution_count": 67,
   "id": "2b9a6aaf",
   "metadata": {},
   "outputs": [],
   "source": [
    "def quicksort(arr, i, j):\n",
    "    \n",
    "    ii = i\n",
    "    jj = j\n",
    "    p = j\n",
    "    \n",
    "    if i >= j:\n",
    "        pass\n",
    "    \n",
    "    else:\n",
    "        \n",
    "        while ii<jj:\n",
    "            bi = (arr[ii] >= arr[p])\n",
    "            bj = (arr[jj] < arr[p])\n",
    "            \n",
    "            if (bi and bj):\n",
    "#                 swap(arr[ii], arr[jj])\n",
    "                arr[ii], arr[jj] = arr[jj], arr[ii]\n",
    "                ii += 1\n",
    "                jj -= 1\n",
    "                \n",
    "            elif (bi == 0 and bj == 1):\n",
    "                ii += 1\n",
    "            \n",
    "            elif (bi == 1 and bj == 0):\n",
    "                jj -= 1\n",
    "            \n",
    "            elif(bi == 0 and bj == 0):\n",
    "                ii += 1\n",
    "                jj -= 1\n",
    "        \n",
    "#         swap(arr[ii], arr[p])\n",
    "        arr[ii], arr[p] = arr[p], arr[ii]\n",
    "        quicksort(arr, i, ii-1)\n",
    "        quicksort(arr, ii+1, j)"
   ]
  },
  {
   "cell_type": "code",
   "execution_count": 77,
   "id": "fb7df3a9",
   "metadata": {},
   "outputs": [
    {
     "name": "stdout",
     "output_type": "stream",
     "text": [
      "[0.97536391 0.48855364 0.32686125 0.97266251 0.03347274 0.82737161\n",
      " 0.52431231 0.39555208 0.61014493 0.50636711]\n"
     ]
    }
   ],
   "source": [
    "n = 10\n",
    "ARR = np.random.rand(n)\n",
    "print(ARR)"
   ]
  },
  {
   "cell_type": "code",
   "execution_count": 78,
   "id": "941048d1",
   "metadata": {},
   "outputs": [],
   "source": [
    "quicksort(ARR, 0, n-1)"
   ]
  },
  {
   "cell_type": "code",
   "execution_count": 79,
   "id": "4ca2c186",
   "metadata": {},
   "outputs": [
    {
     "name": "stdout",
     "output_type": "stream",
     "text": [
      "[0.03347274 0.32686125 0.39555208 0.48855364 0.50636711 0.52431231\n",
      " 0.61014493 0.82737161 0.97266251 0.97536391]\n"
     ]
    }
   ],
   "source": [
    "print(ARR)"
   ]
  },
  {
   "cell_type": "code",
   "execution_count": 66,
   "id": "538f952d",
   "metadata": {},
   "outputs": [
    {
     "name": "stdout",
     "output_type": "stream",
     "text": [
      "3 2\n"
     ]
    }
   ],
   "source": [
    "a = 3\n",
    "b = 2\n",
    "b, a = swap(a, b)\n",
    "print(a, b)"
   ]
  },
  {
   "cell_type": "code",
   "execution_count": null,
   "id": "e965b493",
   "metadata": {},
   "outputs": [],
   "source": []
  }
 ],
 "metadata": {
  "kernelspec": {
   "display_name": "Python 3 (ipykernel)",
   "language": "python",
   "name": "python3"
  },
  "language_info": {
   "codemirror_mode": {
    "name": "ipython",
    "version": 3
   },
   "file_extension": ".py",
   "mimetype": "text/x-python",
   "name": "python",
   "nbconvert_exporter": "python",
   "pygments_lexer": "ipython3",
   "version": "3.9.7"
  }
 },
 "nbformat": 4,
 "nbformat_minor": 5
}
