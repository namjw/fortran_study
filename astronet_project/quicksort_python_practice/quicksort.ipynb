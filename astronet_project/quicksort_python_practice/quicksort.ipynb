{
 "cells": [
  {
   "cell_type": "code",
   "execution_count": 23,
   "id": "0c0e6b4d",
   "metadata": {},
   "outputs": [],
   "source": [
    "import numpy as np"
   ]
  },
  {
   "cell_type": "code",
   "execution_count": 24,
   "id": "01306aa2",
   "metadata": {},
   "outputs": [],
   "source": [
    "def swap(a, b):\n",
    "    return b, a"
   ]
  },
  {
   "cell_type": "code",
   "execution_count": 25,
   "id": "73e6ce48",
   "metadata": {},
   "outputs": [],
   "source": [
    "def quicksort_(arr, i, j):\n",
    "    \n",
    "    ii = i\n",
    "    jj = j\n",
    "    p = j\n",
    "    \n",
    "    if i >= j:\n",
    "        pass\n",
    "    \n",
    "    else:\n",
    "        \n",
    "        while ii<jj:\n",
    "            bi = (arr[ii] >= arr[p])\n",
    "            bj = (arr[jj] < arr[p])\n",
    "            \n",
    "            if (bi and bj):\n",
    "                swap(arr[ii], arr[jj])\n",
    "                ii += 1\n",
    "                jj -= 1\n",
    "                \n",
    "            elif (bi != bj) or bj:\n",
    "                ii += 1\n",
    "            \n",
    "            elif (bi != bj) or bi:\n",
    "                jj -= 1\n",
    "        \n",
    "        swap(arr[ii], arr[p])\n",
    "        quicksort_(arr, i, ii-1)\n",
    "        quicksort_(arr, ii+1, j)\n",
    "        \n",
    "# this method is wrong....(?)"
   ]
  },
  {
   "cell_type": "code",
   "execution_count": 26,
   "id": "2b9a6aaf",
   "metadata": {},
   "outputs": [],
   "source": [
    "def quicksort(arr, i, j):\n",
    "    \n",
    "    ii = i\n",
    "    jj = j\n",
    "    p = j\n",
    "    \n",
    "    if i >= j:\n",
    "        pass\n",
    "    \n",
    "    else:\n",
    "        \n",
    "        while ii<=jj:\n",
    "            bi = (arr[ii] >= arr[p])\n",
    "            bj = (arr[jj] < arr[p])\n",
    "            \n",
    "            if (bi and bj):\n",
    "#                 swap(arr[ii], arr[jj])\n",
    "                arr[ii], arr[jj] = arr[jj], arr[ii]\n",
    "                ii += 1\n",
    "                jj -= 1\n",
    "                \n",
    "            elif (bi == 0 and bj == 1):\n",
    "                ii += 1\n",
    "            \n",
    "            elif (bi == 1 and bj == 0):\n",
    "                jj -= 1\n",
    "            \n",
    "            elif(bi == 0 and bj == 0):\n",
    "                ii += 1\n",
    "                jj -= 1\n",
    "        \n",
    "#         swap(arr[ii], arr[p])\n",
    "        arr[ii], arr[p] = arr[p], arr[ii]\n",
    "        p = ii\n",
    "        quicksort(arr, i, p-1)\n",
    "        quicksort(arr, p+1, j)"
   ]
  },
  {
   "cell_type": "code",
   "execution_count": 27,
   "id": "7a8d5398",
   "metadata": {},
   "outputs": [],
   "source": [
    "def verification(arr):\n",
    "#     print('verification start')\n",
    "    for i, a in enumerate(arr):\n",
    "        if i == 0:\n",
    "            pass\n",
    "        elif a < arr[i-1]:\n",
    "            print('your sorting machine is puny')\n",
    "            break\n",
    "        "
   ]
  },
  {
   "cell_type": "code",
   "execution_count": 28,
   "id": "fb7df3a9",
   "metadata": {},
   "outputs": [
    {
     "name": "stdout",
     "output_type": "stream",
     "text": [
      "[0.83260361 0.3255964  0.11074169 0.90927941 0.04228457 0.27276752\n",
      " 0.91844269 0.1457858  0.02682615 0.59539317 0.01765574 0.79485502\n",
      " 0.08956658 0.42245892 0.47510031 0.97533863 0.982939   0.07101111\n",
      " 0.76508281 0.62354234]\n"
     ]
    }
   ],
   "source": [
    "n = 20\n",
    "ARR = np.random.rand(n)\n",
    "print(ARR)"
   ]
  },
  {
   "cell_type": "code",
   "execution_count": 29,
   "id": "941048d1",
   "metadata": {},
   "outputs": [],
   "source": [
    "quicksort(ARR, 0, n-1)"
   ]
  },
  {
   "cell_type": "code",
   "execution_count": 30,
   "id": "4ca2c186",
   "metadata": {},
   "outputs": [
    {
     "name": "stdout",
     "output_type": "stream",
     "text": [
      "[0.01765574 0.02682615 0.04228457 0.07101111 0.08956658 0.11074169\n",
      " 0.1457858  0.27276752 0.3255964  0.42245892 0.47510031 0.59539317\n",
      " 0.62354234 0.76508281 0.79485502 0.83260361 0.90927941 0.91844269\n",
      " 0.97533863 0.982939  ]\n"
     ]
    }
   ],
   "source": [
    "print(ARR)"
   ]
  },
  {
   "cell_type": "code",
   "execution_count": 36,
   "id": "538f952d",
   "metadata": {},
   "outputs": [],
   "source": [
    "for i in range(50):\n",
    "    n = 100\n",
    "    ARR = np.random.rand(n)\n",
    "    quicksort(ARR, 0, n-1)\n",
    "    verification(ARR)\n"
   ]
  },
  {
   "cell_type": "code",
   "execution_count": 37,
   "id": "e965b493",
   "metadata": {},
   "outputs": [
    {
     "name": "stdout",
     "output_type": "stream",
     "text": [
      "[0.00586821 0.01105073 0.01512968 0.06127991 0.06375686 0.07411567\n",
      " 0.08152847 0.09043988 0.1030666  0.12324523 0.13117364 0.13215353\n",
      " 0.14064012 0.14463903 0.15825883 0.17851801 0.19393376 0.22446627\n",
      " 0.22925371 0.23282642 0.24692708 0.26733211 0.26882491 0.27986688\n",
      " 0.2870765  0.28710968 0.28756304 0.32940468 0.3483204  0.36943034\n",
      " 0.37020433 0.37120367 0.374923   0.376182   0.38101563 0.40459491\n",
      " 0.40480629 0.41268551 0.42957897 0.44274038 0.44710843 0.47649141\n",
      " 0.50649854 0.51260475 0.51910917 0.53780943 0.54511184 0.55570613\n",
      " 0.57419696 0.58141198 0.61471998 0.61922464 0.62001893 0.62066364\n",
      " 0.62083414 0.64887825 0.65057301 0.65816407 0.68098297 0.68601709\n",
      " 0.70111871 0.70217232 0.70817729 0.72105539 0.72755974 0.74034844\n",
      " 0.74225285 0.74232451 0.763789   0.76720232 0.76829708 0.77739833\n",
      " 0.78185602 0.78265222 0.79241582 0.80512371 0.81670881 0.83433786\n",
      " 0.83455084 0.86382609 0.86820697 0.86920309 0.87094882 0.87594181\n",
      " 0.89628194 0.89658266 0.90377926 0.9058378  0.91043909 0.91127767\n",
      " 0.91900327 0.93565618 0.94632162 0.95967183 0.96272936 0.97398236\n",
      " 0.97982975 0.98902611 0.99456585 0.99746482]\n"
     ]
    }
   ],
   "source": [
    "print(ARR)"
   ]
  },
  {
   "cell_type": "code",
   "execution_count": null,
   "id": "b68dfed7",
   "metadata": {},
   "outputs": [],
   "source": []
  }
 ],
 "metadata": {
  "kernelspec": {
   "display_name": "Python 3 (ipykernel)",
   "language": "python",
   "name": "python3"
  },
  "language_info": {
   "codemirror_mode": {
    "name": "ipython",
    "version": 3
   },
   "file_extension": ".py",
   "mimetype": "text/x-python",
   "name": "python",
   "nbconvert_exporter": "python",
   "pygments_lexer": "ipython3",
   "version": "3.9.7"
  }
 },
 "nbformat": 4,
 "nbformat_minor": 5
}
